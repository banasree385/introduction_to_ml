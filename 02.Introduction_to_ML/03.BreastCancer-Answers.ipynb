{
 "cells": [
  {
   "cell_type": "markdown",
   "metadata": {},
   "source": [
    "# Predict if a tumor is benign or maligant"
   ]
  },
  {
   "cell_type": "code",
   "execution_count": 1,
   "metadata": {},
   "outputs": [
    {
     "name": "stdout",
     "output_type": "stream",
     "text": [
      "Shape of dataframe (569, 30)\n"
     ]
    }
   ],
   "source": [
    "#Is this a classification or regression problem ?\n",
    "from sklearn.datasets import load_breast_cancer\n",
    "import pandas as pd\n",
    "\n",
    "cancer = load_breast_cancer()\n",
    "\n",
    "X = cancer.data\n",
    "y = cancer.target\n",
    "df = pd.DataFrame(X, columns=cancer.feature_names)\n",
    "print(f\"Shape of dataframe {df.shape}\")"
   ]
  },
  {
   "cell_type": "code",
   "execution_count": 2,
   "metadata": {},
   "outputs": [
    {
     "name": "stdout",
     "output_type": "stream",
     "text": [
      "target[0:30] = [0 0 0 0 0 0 0 0 0 0 0 0 0 0 0 0 0 0 0 1 1 1 0 0 0 0 0 0 0 0]\n"
     ]
    }
   ],
   "source": [
    "features = ['radius error', 'texture error', 'concave points error',\n",
    "            'symmetry error', 'worst texture', 'worst smoothness',\n",
    "            'worst symmetry']\n",
    "df = df[features] # select just these features\n",
    "print(\"target[0:30] =\", y[0:30]) # show 30 values of malignant/benign target"
   ]
  },
  {
   "cell_type": "code",
   "execution_count": 3,
   "metadata": {},
   "outputs": [],
   "source": [
    "# Create train test split, with 15% data reserved from testing.\n",
    "from sklearn.model_selection import train_test_split\n",
    "#  one line code here.\n",
    "X_train, X_test, y_train, y_test = train_test_split(df, y, test_size=0.15)"
   ]
  },
  {
   "cell_type": "code",
   "execution_count": 10,
   "metadata": {},
   "outputs": [
    {
     "name": "stdout",
     "output_type": "stream",
     "text": [
      "88.37% correct\n"
     ]
    }
   ],
   "source": [
    "# Create a RandomForestClassifier since this is a classification problem.\n",
    "from sklearn.ensemble import RandomForestClassifier\n",
    "# one line of code here.\n",
    "cl = RandomForestClassifier(n_estimators=300)\n",
    "# Fit your model.\n",
    "# One line of code here.\n",
    "cl.fit(X_train, y_train)\n",
    "\n",
    "validation_e = cl.score(X_test, y_test)\n",
    "print(f\"{validation_e*100:.2f}% correct\")"
   ]
  },
  {
   "cell_type": "code",
   "execution_count": 13,
   "metadata": {},
   "outputs": [
    {
     "data": {
      "text/plain": [
       "sklearn.ensemble._forest.RandomForestClassifier"
      ]
     },
     "execution_count": 13,
     "metadata": {},
     "output_type": "execute_result"
    },
    {
     "data": {
      "image/png": "[encoded data removed]",
      "text/plain": [
       "<Figure size 288x157.248 with 1 Axes>"
      ]
     },
     "metadata": {
      "needs_background": "light"
     },
     "output_type": "display_data"
    }
   ],
   "source": [
    "# Calculate the feature importances.\n",
    "from rfpimp import *\n",
    "I = importances(cl, X_test, y_test)\n",
    "plot_importances(I, color='#4575b4', vscale=1.4)\n",
    "type(y_test)\n",
    "type(X_test)\n",
    "type(cl)"
   ]
  },
  {
   "cell_type": "code",
   "execution_count": null,
   "metadata": {},
   "outputs": [],
   "source": []
  }
 ],
 "metadata": {
  "kernelspec": {
   "display_name": "Python 3",
   "language": "python",
   "name": "python3"
  },
  "language_info": {
   "codemirror_mode": {
    "name": "ipython",
    "version": 3
   },
   "file_extension": ".py",
   "mimetype": "text/x-python",
   "name": "python",
   "nbconvert_exporter": "python",
   "pygments_lexer": "ipython3",
   "version": "3.7.6"
  }
 },
 "nbformat": 4,
 "nbformat_minor": 4
}
